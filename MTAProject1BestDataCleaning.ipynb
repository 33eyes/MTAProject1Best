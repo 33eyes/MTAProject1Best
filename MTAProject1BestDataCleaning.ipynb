{
 "cells": [
  {
   "cell_type": "code",
   "execution_count": null,
   "metadata": {
    "collapsed": true
   },
   "outputs": [],
   "source": [
    "import pandas as pd\n",
    "import numpy as np\n",
    "\n",
    "set171 = ['170304','170311','170318','170325']\n",
    "set172 = ['170401','170408','170415','170422']\n",
    "set173 = ['170429','170506','170513','170520']\n",
    "set174 = ['170527','170603']\n",
    "set161 = ['160305','160312','160319','160326']\n",
    "set162 = ['160402','160409','160416','160423']\n",
    "set163 = ['160430','160507','160514','160521']\n",
    "set164 = ['160528','160604']\n",
    "list171=[pd.DataFrame()]*4;\n",
    "list161=[pd.DataFrame()]*4;\n",
    "list172=[pd.DataFrame()]*4;\n",
    "list162=[pd.DataFrame()]*4;\n",
    "list173=[pd.DataFrame()]*4;\n",
    "list163=[pd.DataFrame()]*4;\n",
    "list174=[pd.DataFrame()]*2;\n",
    "list164=[pd.DataFrame()]*2;\n",
    "for i in range(4):\n",
    "    str17 = \"http://web.mta.info/developers/data/nyct/turnstile/turnstile_\" + set171[i] + \".txt\"\n",
    "    str16 = \"http://web.mta.info/developers/data/nyct/turnstile/turnstile_\" + set161[i] + \".txt\"\n",
    "    list171[i] = pd.read_csv(str17)\n",
    "    list161[i] = pd.read_csv(str16)\n",
    "y171 = pd.concat(list171)\n",
    "y161 = pd.concat(list161)"
   ]
  },
  {
   "cell_type": "code",
   "execution_count": 3,
   "metadata": {
    "collapsed": true
   },
   "outputs": [],
   "source": [
    "for i in range(4):\n",
    "    str17 = \"http://web.mta.info/developers/data/nyct/turnstile/turnstile_\" + set172[i] + \".txt\"\n",
    "    str16 = \"http://web.mta.info/developers/data/nyct/turnstile/turnstile_\" + set162[i] + \".txt\"\n",
    "    list172[i] = pd.read_csv(str17)\n",
    "    list162[i] = pd.read_csv(str16)\n",
    "y172 = pd.concat(list172)\n",
    "y162 = pd.concat(list162)"
   ]
  },
  {
   "cell_type": "code",
   "execution_count": 4,
   "metadata": {
    "collapsed": true
   },
   "outputs": [],
   "source": [
    "for i in range(4):\n",
    "    str17 = \"http://web.mta.info/developers/data/nyct/turnstile/turnstile_\" + set173[i] + \".txt\"\n",
    "    str16 = \"http://web.mta.info/developers/data/nyct/turnstile/turnstile_\" + set163[i] + \".txt\"\n",
    "    list173[i] = pd.read_csv(str17)\n",
    "    list163[i] = pd.read_csv(str16)\n",
    "y173 = pd.concat(list173)\n",
    "y163 = pd.concat(list163)"
   ]
  },
  {
   "cell_type": "code",
   "execution_count": 5,
   "metadata": {
    "collapsed": true
   },
   "outputs": [],
   "source": [
    "for i in range(2):\n",
    "    str17 = \"http://web.mta.info/developers/data/nyct/turnstile/turnstile_\" + set174[i] + \".txt\"\n",
    "    str16 = \"http://web.mta.info/developers/data/nyct/turnstile/turnstile_\" + set164[i] + \".txt\"\n",
    "    list174[i] = pd.read_csv(str17)\n",
    "    list164[i] = pd.read_csv(str16)\n",
    "y174 = pd.concat(list174)\n",
    "y164 = pd.concat(list164)"
   ]
  },
  {
   "cell_type": "code",
   "execution_count": 6,
   "metadata": {
    "collapsed": true
   },
   "outputs": [],
   "source": [
    "y17 = pd.concat([y171,y172,y173,y174])\n",
    "y16 = pd.concat([y161,y162,y163,y164])\n",
    "y17.columns = [column.strip() for column in y17.columns]\n",
    "y16.columns = [column.strip() for column in y16.columns]"
   ]
  },
  {
   "cell_type": "code",
   "execution_count": 7,
   "metadata": {
    "collapsed": true
   },
   "outputs": [],
   "source": [
    "y17['DATETIME'] = [pd.to_datetime(i+j, format = '%m/%d/%Y%H:%M:%S') for i, j in zip(y17.DATE, y17.TIME)]\n",
    "y16['DATETIME'] = [pd.to_datetime(i+j, format = '%m/%d/%Y%H:%M:%S') for i, j in zip(y16.DATE, y16.TIME)]\n",
    "y17.sort_values(['DATETIME']).groupby(['C/A','UNIT','SCP','STATION','LINENAME','DIVISION'])\n",
    "y17['ENTRIESDOWN'] = y17.groupby(['C/A','UNIT','SCP','STATION','LINENAME','DIVISION']).ENTRIES.shift()\n",
    "y17['EXITSDOWN'] = y17.groupby(['C/A','UNIT','SCP','STATION','LINENAME','DIVISION']).EXITS.shift()\n",
    "y16.sort_values(['DATETIME']).groupby(['C/A','UNIT','SCP','STATION','LINENAME','DIVISION'])\n",
    "y16['ENTRIESDOWN'] = y16.groupby(['C/A','UNIT','SCP','STATION','LINENAME','DIVISION']).ENTRIES.shift()\n",
    "y16['EXITSDOWN'] = y16.groupby(['C/A','UNIT','SCP','STATION','LINENAME','DIVISION']).EXITS.shift()\n",
    "y17.dropna(inplace=True)\n",
    "y16.dropna(inplace=True)\n",
    "y17['ENTRIES'] = [i - int(j) for i,j in zip(y17['ENTRIES'], y17['ENTRIESDOWN'])]\n",
    "y17['EXITS'] = [i - int(j) for i,j in zip(y17['EXITS'], y17['EXITSDOWN'])]\n",
    "y16['ENTRIES'] = [i - int(j) for i,j in zip(y16['ENTRIES'], y16['ENTRIESDOWN'])]\n",
    "y16['EXITS'] = [i - int(j) for i,j in zip(y16['EXITS'], y16['EXITSDOWN'])]\n",
    "del y16['ENTRIESDOWN']\n",
    "del y16['EXITSDOWN']\n",
    "del y17['ENTRIESDOWN']\n",
    "del y17['EXITSDOWN']"
   ]
  },
  {
   "cell_type": "code",
   "execution_count": 1,
   "metadata": {},
   "outputs": [
    {
     "ename": "NameError",
     "evalue": "name 'y17' is not defined",
     "output_type": "error",
     "traceback": [
      "\u001b[0;31m---------------------------------------------------------------------------\u001b[0m",
      "\u001b[0;31mNameError\u001b[0m                                 Traceback (most recent call last)",
      "\u001b[0;32m<ipython-input-1-f3da49d2a83b>\u001b[0m in \u001b[0;36m<module>\u001b[0;34m()\u001b[0m\n\u001b[0;32m----> 1\u001b[0;31m \u001b[0;32mprint\u001b[0m\u001b[0;34m(\u001b[0m\u001b[0my17\u001b[0m\u001b[0;34m.\u001b[0m\u001b[0mhead\u001b[0m\u001b[0;34m(\u001b[0m\u001b[0;34m)\u001b[0m\u001b[0;34m)\u001b[0m\u001b[0;34m\u001b[0m\u001b[0m\n\u001b[0m",
      "\u001b[0;31mNameError\u001b[0m: name 'y17' is not defined"
     ]
    }
   ],
   "source": [
    "y17.to_csv('year2017.csv')\n",
    "y16.to_csv('year2016.csv')"
   ]
  },
  {
   "cell_type": "code",
   "execution_count": null,
   "metadata": {
    "collapsed": true
   },
   "outputs": [],
   "source": []
  }
 ],
 "metadata": {
  "kernelspec": {
   "display_name": "Python 2",
   "language": "python",
   "name": "python2"
  },
  "language_info": {
   "codemirror_mode": {
    "name": "ipython",
    "version": 2
   },
   "file_extension": ".py",
   "mimetype": "text/x-python",
   "name": "python",
   "nbconvert_exporter": "python",
   "pygments_lexer": "ipython2",
   "version": "2.7.13"
  }
 },
 "nbformat": 4,
 "nbformat_minor": 2
}
